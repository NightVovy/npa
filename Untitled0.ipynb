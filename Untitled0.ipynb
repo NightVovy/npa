{
  "nbformat": 4,
  "nbformat_minor": 0,
  "metadata": {
    "colab": {
      "provenance": [],
      "authorship_tag": "ABX9TyOCf/wbahT2x/Bs0vAFHzKp",
      "include_colab_link": true
    },
    "kernelspec": {
      "name": "python3",
      "display_name": "Python 3"
    },
    "language_info": {
      "name": "python"
    },
    "widgets": {
      "application/vnd.jupyter.widget-state+json": {
        "2fc89373bb0341af9b1c879b79563bff": {
          "model_module": "@jupyter-widgets/controls",
          "model_name": "FloatSliderModel",
          "model_module_version": "1.5.0",
          "state": {
            "_dom_classes": [],
            "_model_module": "@jupyter-widgets/controls",
            "_model_module_version": "1.5.0",
            "_model_name": "FloatSliderModel",
            "_view_count": null,
            "_view_module": "@jupyter-widgets/controls",
            "_view_module_version": "1.5.0",
            "_view_name": "FloatSliderView",
            "continuous_update": true,
            "description": "p:",
            "description_tooltip": null,
            "disabled": false,
            "layout": "IPY_MODEL_77eb3046fb694b51b71a46a731eeba25",
            "max": 1,
            "min": 0,
            "orientation": "horizontal",
            "readout": true,
            "readout_format": ".2f",
            "step": 0.01,
            "style": "IPY_MODEL_a33cab675f85462bbececaa3c5c07625",
            "value": 0.53
          }
        },
        "77eb3046fb694b51b71a46a731eeba25": {
          "model_module": "@jupyter-widgets/base",
          "model_name": "LayoutModel",
          "model_module_version": "1.2.0",
          "state": {
            "_model_module": "@jupyter-widgets/base",
            "_model_module_version": "1.2.0",
            "_model_name": "LayoutModel",
            "_view_count": null,
            "_view_module": "@jupyter-widgets/base",
            "_view_module_version": "1.2.0",
            "_view_name": "LayoutView",
            "align_content": null,
            "align_items": null,
            "align_self": null,
            "border": null,
            "bottom": null,
            "display": null,
            "flex": null,
            "flex_flow": null,
            "grid_area": null,
            "grid_auto_columns": null,
            "grid_auto_flow": null,
            "grid_auto_rows": null,
            "grid_column": null,
            "grid_gap": null,
            "grid_row": null,
            "grid_template_areas": null,
            "grid_template_columns": null,
            "grid_template_rows": null,
            "height": null,
            "justify_content": null,
            "justify_items": null,
            "left": null,
            "margin": null,
            "max_height": null,
            "max_width": null,
            "min_height": null,
            "min_width": null,
            "object_fit": null,
            "object_position": null,
            "order": null,
            "overflow": null,
            "overflow_x": null,
            "overflow_y": null,
            "padding": null,
            "right": null,
            "top": null,
            "visibility": null,
            "width": null
          }
        },
        "a33cab675f85462bbececaa3c5c07625": {
          "model_module": "@jupyter-widgets/controls",
          "model_name": "SliderStyleModel",
          "model_module_version": "1.5.0",
          "state": {
            "_model_module": "@jupyter-widgets/controls",
            "_model_module_version": "1.5.0",
            "_model_name": "SliderStyleModel",
            "_view_count": null,
            "_view_module": "@jupyter-widgets/base",
            "_view_module_version": "1.2.0",
            "_view_name": "StyleView",
            "description_width": "",
            "handle_color": null
          }
        },
        "061a6282525e46e99753c89c40c109cc": {
          "model_module": "@jupyter-widgets/controls",
          "model_name": "FloatSliderModel",
          "model_module_version": "1.5.0",
          "state": {
            "_dom_classes": [],
            "_model_module": "@jupyter-widgets/controls",
            "_model_module_version": "1.5.0",
            "_model_name": "FloatSliderModel",
            "_view_count": null,
            "_view_module": "@jupyter-widgets/controls",
            "_view_module_version": "1.5.0",
            "_view_name": "FloatSliderView",
            "continuous_update": true,
            "description": "q:",
            "description_tooltip": null,
            "disabled": false,
            "layout": "IPY_MODEL_011b9084efd743b299b41da5abef66b0",
            "max": 1,
            "min": 0,
            "orientation": "horizontal",
            "readout": true,
            "readout_format": ".2f",
            "step": 0.01,
            "style": "IPY_MODEL_2a3a0bf2f0da4ffe9cd3c972be11461b",
            "value": 0.5
          }
        },
        "011b9084efd743b299b41da5abef66b0": {
          "model_module": "@jupyter-widgets/base",
          "model_name": "LayoutModel",
          "model_module_version": "1.2.0",
          "state": {
            "_model_module": "@jupyter-widgets/base",
            "_model_module_version": "1.2.0",
            "_model_name": "LayoutModel",
            "_view_count": null,
            "_view_module": "@jupyter-widgets/base",
            "_view_module_version": "1.2.0",
            "_view_name": "LayoutView",
            "align_content": null,
            "align_items": null,
            "align_self": null,
            "border": null,
            "bottom": null,
            "display": null,
            "flex": null,
            "flex_flow": null,
            "grid_area": null,
            "grid_auto_columns": null,
            "grid_auto_flow": null,
            "grid_auto_rows": null,
            "grid_column": null,
            "grid_gap": null,
            "grid_row": null,
            "grid_template_areas": null,
            "grid_template_columns": null,
            "grid_template_rows": null,
            "height": null,
            "justify_content": null,
            "justify_items": null,
            "left": null,
            "margin": null,
            "max_height": null,
            "max_width": null,
            "min_height": null,
            "min_width": null,
            "object_fit": null,
            "object_position": null,
            "order": null,
            "overflow": null,
            "overflow_x": null,
            "overflow_y": null,
            "padding": null,
            "right": null,
            "top": null,
            "visibility": null,
            "width": null
          }
        },
        "2a3a0bf2f0da4ffe9cd3c972be11461b": {
          "model_module": "@jupyter-widgets/controls",
          "model_name": "SliderStyleModel",
          "model_module_version": "1.5.0",
          "state": {
            "_model_module": "@jupyter-widgets/controls",
            "_model_module_version": "1.5.0",
            "_model_name": "SliderStyleModel",
            "_view_count": null,
            "_view_module": "@jupyter-widgets/base",
            "_view_module_version": "1.2.0",
            "_view_name": "StyleView",
            "description_width": "",
            "handle_color": null
          }
        },
        "097665f896bf451a8bbe186f9769abc1": {
          "model_module": "@jupyter-widgets/output",
          "model_name": "OutputModel",
          "model_module_version": "1.0.0",
          "state": {
            "_dom_classes": [],
            "_model_module": "@jupyter-widgets/output",
            "_model_module_version": "1.0.0",
            "_model_name": "OutputModel",
            "_view_count": null,
            "_view_module": "@jupyter-widgets/output",
            "_view_module_version": "1.0.0",
            "_view_name": "OutputView",
            "layout": "IPY_MODEL_17668a6a023547bf94eb555d2d6a902c",
            "msg_id": "",
            "outputs": [
              {
                "output_type": "display_data",
                "data": {
                  "text/plain": "<Figure size 800x600 with 1 Axes>",
                  "image/png": "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\n"
                },
                "metadata": {}
              }
            ]
          }
        },
        "17668a6a023547bf94eb555d2d6a902c": {
          "model_module": "@jupyter-widgets/base",
          "model_name": "LayoutModel",
          "model_module_version": "1.2.0",
          "state": {
            "_model_module": "@jupyter-widgets/base",
            "_model_module_version": "1.2.0",
            "_model_name": "LayoutModel",
            "_view_count": null,
            "_view_module": "@jupyter-widgets/base",
            "_view_module_version": "1.2.0",
            "_view_name": "LayoutView",
            "align_content": null,
            "align_items": null,
            "align_self": null,
            "border": null,
            "bottom": null,
            "display": null,
            "flex": null,
            "flex_flow": null,
            "grid_area": null,
            "grid_auto_columns": null,
            "grid_auto_flow": null,
            "grid_auto_rows": null,
            "grid_column": null,
            "grid_gap": null,
            "grid_row": null,
            "grid_template_areas": null,
            "grid_template_columns": null,
            "grid_template_rows": null,
            "height": null,
            "justify_content": null,
            "justify_items": null,
            "left": null,
            "margin": null,
            "max_height": null,
            "max_width": null,
            "min_height": null,
            "min_width": null,
            "object_fit": null,
            "object_position": null,
            "order": null,
            "overflow": null,
            "overflow_x": null,
            "overflow_y": null,
            "padding": null,
            "right": null,
            "top": null,
            "visibility": null,
            "width": null
          }
        }
      }
    }
  },
  "cells": [
    {
      "cell_type": "markdown",
      "metadata": {
        "id": "view-in-github",
        "colab_type": "text"
      },
      "source": [
        "<a href=\"https://colab.research.google.com/github/NightVovy/npa/blob/notebook/Untitled0.ipynb\" target=\"_parent\"><img src=\"https://colab.research.google.com/assets/colab-badge.svg\" alt=\"Open In Colab\"/></a>"
      ]
    },
    {
      "cell_type": "code",
      "execution_count": 3,
      "metadata": {
        "colab": {
          "base_uri": "https://localhost:8080/",
          "height": 626,
          "referenced_widgets": [
            "2fc89373bb0341af9b1c879b79563bff",
            "77eb3046fb694b51b71a46a731eeba25",
            "a33cab675f85462bbececaa3c5c07625",
            "061a6282525e46e99753c89c40c109cc",
            "011b9084efd743b299b41da5abef66b0",
            "2a3a0bf2f0da4ffe9cd3c972be11461b",
            "097665f896bf451a8bbe186f9769abc1",
            "17668a6a023547bf94eb555d2d6a902c"
          ]
        },
        "id": "dLpRCx417h9b",
        "outputId": "a083ac34-b5e8-4605-f5da-487aa9601f1f"
      },
      "outputs": [
        {
          "output_type": "display_data",
          "data": {
            "text/plain": [
              "FloatSlider(value=0.95, description='p:', max=1.0, step=0.01)"
            ],
            "application/vnd.jupyter.widget-view+json": {
              "version_major": 2,
              "version_minor": 0,
              "model_id": "2fc89373bb0341af9b1c879b79563bff"
            }
          },
          "metadata": {}
        },
        {
          "output_type": "display_data",
          "data": {
            "text/plain": [
              "FloatSlider(value=0.05, description='q:', max=1.0, step=0.01)"
            ],
            "application/vnd.jupyter.widget-view+json": {
              "version_major": 2,
              "version_minor": 0,
              "model_id": "061a6282525e46e99753c89c40c109cc"
            }
          },
          "metadata": {}
        },
        {
          "output_type": "display_data",
          "data": {
            "text/plain": [
              "Output()"
            ],
            "application/vnd.jupyter.widget-view+json": {
              "version_major": 2,
              "version_minor": 0,
              "model_id": "097665f896bf451a8bbe186f9769abc1"
            }
          },
          "metadata": {}
        }
      ],
      "source": [
        "import matplotlib.pyplot as plt\n",
        "import numpy as np\n",
        "import ipywidgets as widgets\n",
        "from IPython.display import display, clear_output\n",
        "\n",
        "# 启用交互式模式\n",
        "%matplotlib inline\n",
        "\n",
        "# 定义函数\n",
        "def func(cosbeta, p, q):\n",
        "    p00 = p * q\n",
        "    p01 = p * (1 - q)\n",
        "    p10 = (1 - p) * q\n",
        "    p11 = (1 - p) * (1 - q)\n",
        "    return p10 * (p01 - p11 * cosbeta)**3 + p11 * (p00 + p10 * cosbeta)**3\n",
        "\n",
        "# 更新图像的函数\n",
        "def update_plot(p, q):\n",
        "    cosbeta = np.linspace(-1, 1, 400)\n",
        "    y = func(cosbeta, p, q)\n",
        "\n",
        "    plt.figure(figsize=(8, 6))\n",
        "    plt.plot(cosbeta, y, label=f'y = p10*(p01 - p11*cosbeta)^3 + p11*(p00 + p10*cosbeta)^3\\n(p={p:.2f}, q={q:.2f})')\n",
        "    plt.xlabel('cosbeta')\n",
        "    plt.ylabel('y')\n",
        "    plt.title('Function Plot')\n",
        "    plt.legend()\n",
        "    plt.grid(True)\n",
        "    plt.show()\n",
        "\n",
        "# 创建交互式小部件\n",
        "p_slider = widgets.FloatSlider(value=0.95, min=0, max=1, step=0.01, description='p:')\n",
        "q_slider = widgets.FloatSlider(value=0.05, min=0, max=1, step=0.01, description='q:')\n",
        "\n",
        "# 绑定小部件和更新函数\n",
        "out = widgets.interactive_output(update_plot, {'p': p_slider, 'q': q_slider})\n",
        "\n",
        "# 显示小部件\n",
        "display(p_slider, q_slider, out)\n"
      ]
    },
    {
      "cell_type": "code",
      "source": [
        "import numpy as np\n",
        "from scipy.optimize import minimize\n",
        "\n",
        "# 定义方程\n",
        "def equation(params):\n",
        "    p, q, cosbeta = params\n",
        "    p00 = p * q\n",
        "    p01 = p * (1 - q)\n",
        "    p10 = (1 - p) * q\n",
        "    p11 = (1 - p) * (1 - q)\n",
        "    return p10 * (p01 - p11 * cosbeta)**3 + p11 * (p00 + p10 * cosbeta)**3\n",
        "\n",
        "# 定义约束条件\n",
        "def constraint1(params):\n",
        "    p, q, cosbeta = params\n",
        "    p00 = p * q\n",
        "    p01 = p * (1 - q)\n",
        "    p10 = (1 - p) * q\n",
        "    p11 = (1 - p) * (1 - q)\n",
        "    return (p01 - p11 * cosbeta)**2 - (p00 + p10 * cosbeta)**2\n",
        "\n",
        "# 定义范围\n",
        "bounds = [(1e-5, 1-1e-5), (1e-5, 1-1e-5), (-1, 1)]\n",
        "\n",
        "# 初始猜测\n",
        "initial_guess = [0.5, 0.5, 0]\n",
        "\n",
        "# 进行优化\n",
        "result = minimize(lambda params: abs(equation(params)), initial_guess, bounds=bounds, constraints={'type': 'ineq', 'fun': constraint1})\n",
        "\n",
        "# 输出结果\n",
        "if result.success:\n",
        "    p, q, cosbeta = result.x\n",
        "    print(f\"找到的p值: {p}, q值: {q}, cosbeta值: {cosbeta}\")\n",
        "else:\n",
        "    print(\"未能找到合适的p和q值\")\n"
      ],
      "metadata": {
        "colab": {
          "base_uri": "https://localhost:8080/"
        },
        "id": "o91j_AZlAEAR",
        "outputId": "1fcb3c5c-a32d-45fc-fd99-5de388797741"
      },
      "execution_count": 11,
      "outputs": [
        {
          "output_type": "stream",
          "name": "stdout",
          "text": [
            "找到的p值: 1.0000000000010001e-05, q值: 0.5000000012944258, cosbeta值: -6.0848708127991705e-09\n"
          ]
        }
      ]
    },
    {
      "cell_type": "markdown",
      "source": [
        "A=0,B=0看cosbeta的取值"
      ],
      "metadata": {
        "id": "ouCPL1lLCFv9"
      }
    },
    {
      "cell_type": "code",
      "source": [
        "import numpy as np\n",
        "\n",
        "# 定义方程\n",
        "def equations(p, q):\n",
        "    p00 = p * q\n",
        "    p01 = p * (1 - q)\n",
        "    p10 = (1 - p) * q\n",
        "    p11 = (1 - p) * (1 - q)\n",
        "\n",
        "    cosbeta1 = p01 / p11\n",
        "    cosbeta2 = -p00 / p10\n",
        "\n",
        "    return cosbeta1, cosbeta2\n",
        "\n",
        "# 随机生成p和q的值\n",
        "for _ in range(5):\n",
        "    p = np.random.rand()\n",
        "    q = np.random.rand()\n",
        "\n",
        "    cosbeta1, cosbeta2 = equations(p, q)\n",
        "\n",
        "    print(f\"p: {p:.4f}, q: {q:.4f}, cosbeta1: {cosbeta1:.4f}, cosbeta2: {cosbeta2:.4f}\")\n"
      ],
      "metadata": {
        "colab": {
          "base_uri": "https://localhost:8080/"
        },
        "id": "vFiHFgecCFW5",
        "outputId": "d6b2fac2-27d8-4786-9011-af62297b2dbb"
      },
      "execution_count": 12,
      "outputs": [
        {
          "output_type": "stream",
          "name": "stdout",
          "text": [
            "p: 0.6681, q: 0.0007, cosbeta1: 2.0126, cosbeta2: -2.0126\n",
            "p: 0.5009, q: 0.1324, cosbeta1: 1.0034, cosbeta2: -1.0034\n",
            "p: 0.7237, q: 0.0438, cosbeta1: 2.6194, cosbeta2: -2.6194\n",
            "p: 0.9973, q: 0.7102, cosbeta1: 374.6930, cosbeta2: -374.6930\n",
            "p: 0.0166, q: 0.4684, cosbeta1: 0.0169, cosbeta2: -0.0169\n"
          ]
        }
      ]
    }
  ]
}